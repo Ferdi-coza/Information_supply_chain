{
 "cells": [
  {
   "cell_type": "code",
   "execution_count": 1,
   "id": "6ad96dde-d998-4ebd-9ff4-9fd0349bb164",
   "metadata": {},
   "outputs": [],
   "source": [
    "import pandas as pd\n",
    "import numpy as np"
   ]
  },
  {
   "cell_type": "code",
   "execution_count": 4,
   "id": "3456a62b-93b5-4335-88ec-ebc170220cbe",
   "metadata": {},
   "outputs": [],
   "source": [
    "#import Tempreture data\n",
    "df = pd.read_csv('../data/clean_SSTEMP_sensor.csv')"
   ]
  },
  {
   "cell_type": "code",
   "execution_count": 6,
   "id": "83f0dbfe-b0b3-4af1-a8be-12e4994a8bb9",
   "metadata": {},
   "outputs": [
    {
     "data": {
      "text/plain": [
       "<bound method NDFrame.head of           State                 Time         Device Unit\n",
       "0     13.000000  2024-09-12 01:04:03  SSTEMP_sensor    C\n",
       "1     12.900000  2024-09-12 01:04:28  SSTEMP_sensor    C\n",
       "2     12.900000  2024-09-12 01:04:53  SSTEMP_sensor    C\n",
       "3     12.900000  2024-09-12 01:05:18  SSTEMP_sensor    C\n",
       "4     12.900000  2024-09-12 01:05:43  SSTEMP_sensor    C\n",
       "...         ...                  ...            ...  ...\n",
       "6211  13.200674  2024-09-13 21:13:01  SSTEMP_sensor    C\n",
       "6212  13.160405  2024-09-13 21:13:26  SSTEMP_sensor    C\n",
       "6213  13.136243  2024-09-13 21:13:51  SSTEMP_sensor    C\n",
       "6214  13.121746  2024-09-13 21:14:16  SSTEMP_sensor    C\n",
       "6215  13.100000  2024-09-13 21:14:41  SSTEMP_sensor    C\n",
       "\n",
       "[6216 rows x 4 columns]>"
      ]
     },
     "execution_count": 6,
     "metadata": {},
     "output_type": "execute_result"
    }
   ],
   "source": [
    "df.head"
   ]
  },
  {
   "cell_type": "code",
   "execution_count": null,
   "id": "058d9e95-8764-420d-8180-22364717361d",
   "metadata": {},
   "outputs": [],
   "source": []
  }
 ],
 "metadata": {
  "kernelspec": {
   "display_name": "Python 3 (ipykernel)",
   "language": "python",
   "name": "python3"
  },
  "language_info": {
   "codemirror_mode": {
    "name": "ipython",
    "version": 3
   },
   "file_extension": ".py",
   "mimetype": "text/x-python",
   "name": "python",
   "nbconvert_exporter": "python",
   "pygments_lexer": "ipython3",
   "version": "3.10.12"
  }
 },
 "nbformat": 4,
 "nbformat_minor": 5
}
